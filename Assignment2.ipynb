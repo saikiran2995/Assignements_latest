{
 "cells": [
  {
   "cell_type": "raw",
   "metadata": {},
   "source": [
    "1.What are the two values of the Boolean data type? How do you write them?\n",
    "#Ans:\n",
    "True and False"
   ]
  },
  {
   "cell_type": "raw",
   "metadata": {},
   "source": [
    "2.What are the three different types of Boolean operators?\n",
    "#Ans:\n",
    "AND\n",
    "or\n",
    "NOT"
   ]
  },
  {
   "cell_type": "code",
   "execution_count": null,
   "metadata": {},
   "outputs": [],
   "source": [
    "4. What are the values of the following expressions?\n",
    "(5 > 4) and (3 == 5) ==> true and false ==>false\n",
    "not (5 > 4) ==>False\n",
    "(5 > 4) or (3 == 5) ==>true or false ==>true\n",
    "not ((5 > 4) or (3 == 5)) ==>false or false ==>true\n",
    "(True and True) and (True == False) ==>true and false ==>false\n",
    "(not False) or (not True) ==>true or false ==>true\n"
   ]
  },
  {
   "cell_type": "raw",
   "metadata": {},
   "source": [
    "5.What are the six comparison operators?\n",
    "Ans :\n",
    "    <\n",
    "    <=\n",
    "    >\n",
    "    >=\n",
    "    ==\n",
    "    !="
   ]
  },
  {
   "cell_type": "code",
   "execution_count": 8,
   "metadata": {},
   "outputs": [
    {
     "data": {
      "text/plain": [
       "True"
      ]
     },
     "execution_count": 8,
     "metadata": {},
     "output_type": "execute_result"
    }
   ],
   "source": [
    "#6. How do you tell the difference between the equal to and assignment operators?Describe a condition and when you would use one.\n",
    "#Ans:\n",
    "A=5  #[assignment operator]\n",
    "A==5 #[Check whether A is equal to 5 or not]"
   ]
  },
  {
   "cell_type": "code",
   "execution_count": 11,
   "metadata": {},
   "outputs": [
    {
     "name": "stdout",
     "output_type": "stream",
     "text": [
      "ham\n",
      "spam\n",
      "spam\n"
     ]
    }
   ],
   "source": [
    "#7.Identify the three blocks in this code:\n",
    "\n",
    "spam = 0\n",
    "\n",
    "#1 block\n",
    "if spam == 10:\n",
    "    print('eggs')\n",
    "\n",
    "#2 block\n",
    "if spam > 5:\n",
    "    print('bacon')\n",
    "else:\n",
    "    print('ham')\n",
    "\n",
    "#3 block \n",
    "\n",
    "print('spam')\n",
    "print('spam')\n",
    "\n"
   ]
  },
  {
   "cell_type": "code",
   "execution_count": 24,
   "metadata": {},
   "outputs": [
    {
     "name": "stdout",
     "output_type": "stream",
     "text": [
      "enter value2\n",
      "Howdy\n"
     ]
    }
   ],
   "source": [
    "#8. Write code that \n",
    "#prints Hello if 1 is stored in spam, prints Howdy if 2 is stored in spam, and prints Greetings! if anything else is stored in spam.\n",
    "\n",
    "#Ans: \n",
    "\n",
    "spam=int(input(\"enter value\"))\n",
    "if spam == 1:\n",
    "    print(\"Hello\")\n",
    "elif spam == 2:\n",
    "    print(\"Howdy\")\n",
    "else:\n",
    "    print(\"Greetings!\")"
   ]
  },
  {
   "cell_type": "raw",
   "metadata": {},
   "source": [
    "9.If your programme is stuck in an endless loop, what keys you’ll press?\n",
    "Ans: CTRL + C"
   ]
  },
  {
   "cell_type": "raw",
   "metadata": {},
   "source": [
    "10.How can you tell the difference between break and continue?\n",
    "Ans: The primary difference between break and continue statement\n",
    "break statement leads to an immediate exit of the innermost switch or enclosing loop. On the other hand, the continue statement begins the next iteration of the while, enclosing for, or do loop."
   ]
  },
  {
   "cell_type": "raw",
   "metadata": {},
   "source": [
    "11.In a for loop, what is the difference between range(10), range(0, 10), and range(0, 10, 1)?\n",
    "Ans: There is no difference it will print all the values from 0 to 9 for all the 3 conditions because range(10)-->default it start\n",
    "    with 0 and range(0,10)-->we are defining start and end values and for range(0,10,1)--> it prints the same set of records.\n"
   ]
  },
  {
   "cell_type": "code",
   "execution_count": 35,
   "metadata": {},
   "outputs": [
    {
     "name": "stdout",
     "output_type": "stream",
     "text": [
      "1\n",
      "2\n",
      "3\n",
      "4\n",
      "5\n",
      "6\n",
      "7\n",
      "8\n",
      "9\n",
      "10\n",
      "1\n",
      "2\n",
      "3\n",
      "4\n",
      "5\n",
      "6\n",
      "7\n",
      "8\n",
      "9\n",
      "10\n"
     ]
    }
   ],
   "source": [
    "#12. Write a short program that prints the numbers 1 to 10 using a for loop. Then write an equivalent program that prints the numbers 1 to 10 using a while loop.\n",
    "\n",
    "#for loop\n",
    "for i in range(1,11,1):\n",
    "    print(i)\n",
    "    \n",
    "#while loop:\n",
    "\n",
    "i=1\n",
    "while(i<=10):\n",
    "    print(i)\n",
    "    i=i+1"
   ]
  },
  {
   "cell_type": "raw",
   "metadata": {},
   "source": [
    "13. If you had a function named bacon() inside a module named spam, how would you call it after importing spam?\n",
    "Ans:spam. bacon().\n"
   ]
  },
  {
   "cell_type": "code",
   "execution_count": null,
   "metadata": {},
   "outputs": [],
   "source": []
  },
  {
   "cell_type": "code",
   "execution_count": null,
   "metadata": {},
   "outputs": [],
   "source": []
  },
  {
   "cell_type": "code",
   "execution_count": null,
   "metadata": {},
   "outputs": [],
   "source": []
  },
  {
   "cell_type": "code",
   "execution_count": null,
   "metadata": {},
   "outputs": [],
   "source": []
  }
 ],
 "metadata": {
  "kernelspec": {
   "display_name": "Python 3",
   "language": "python",
   "name": "python3"
  },
  "language_info": {
   "codemirror_mode": {
    "name": "ipython",
    "version": 3
   },
   "file_extension": ".py",
   "mimetype": "text/x-python",
   "name": "python",
   "nbconvert_exporter": "python",
   "pygments_lexer": "ipython3",
   "version": "3.7.4"
  }
 },
 "nbformat": 4,
 "nbformat_minor": 2
}
